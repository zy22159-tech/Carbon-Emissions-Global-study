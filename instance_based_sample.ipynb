{
 "cells": [
  {
   "cell_type": "markdown",
   "id": "82165f69",
   "metadata": {},
   "source": [
    "Import Libraries"
   ]
  },
  {
   "cell_type": "code",
   "execution_count": 1,
   "id": "9292987a",
   "metadata": {},
   "outputs": [],
   "source": [
    "import pandas as pd\n",
    "import numpy as np\n",
    "from sklearn.neighbors import KNeighborsClassifier\n",
    "\n",
    "from sklearn.neighbors import KNeighborsClassifier\n",
    "from sklearn.metrics import accuracy_score, classification_report, confusion_matrix\n",
    "from sklearn.model_selection import GridSearchCV \n",
    "from sklearn.metrics import (precision_recall_curve,PrecisionRecallDisplay)\n",
    "import matplotlib.pyplot as plt\n",
    "import seaborn as sns"
   ]
  },
  {
   "cell_type": "markdown",
   "id": "6dfcd8ed",
   "metadata": {},
   "source": [
    "Load Data"
   ]
  },
  {
   "cell_type": "code",
   "execution_count": 2,
   "id": "66fafe9b",
   "metadata": {},
   "outputs": [],
   "source": [
    "training_data = pd.read_excel('training_data.xlsx')\n",
    "testing_data = pd.read_excel('testing_data.xlsx')"
   ]
  },
  {
   "cell_type": "code",
   "execution_count": 3,
   "id": "c1fe9866",
   "metadata": {},
   "outputs": [
    {
     "name": "stdout",
     "output_type": "stream",
     "text": [
      "No. of training examples: 32950\n",
      "No. of testing examples: 8238\n",
      "testing %: 20.000971156647566\n"
     ]
    }
   ],
   "source": [
    "print(f\"No. of training examples: {training_data.shape[0]}\")\n",
    "print(f\"No. of testing examples: {testing_data.shape[0]}\")\n",
    "print(f\"testing %: {100*testing_data.shape[0]/(training_data.shape[0]+testing_data.shape[0])}\")"
   ]
  },
  {
   "cell_type": "markdown",
   "id": "9fc602eb",
   "metadata": {},
   "source": [
    "Seperate the target class, \"y\" column, from the rest of attributes"
   ]
  },
  {
   "cell_type": "code",
   "execution_count": 4,
   "id": "154c7aff",
   "metadata": {},
   "outputs": [
    {
     "name": "stdout",
     "output_type": "stream",
     "text": [
      "training set shape:\t (32950, 19)\n",
      "test set shape:\t\t (8238, 19)\n"
     ]
    }
   ],
   "source": [
    "xs_train,ys_train = np.split(training_data.values, [19], axis=1)\n",
    "xs_test,ys_test = np.split(testing_data.values, [19], axis=1)\n",
    "ys_test, ys_train = ys_test.reshape(-1), ys_train.reshape(-1) #reshape y or else data conversion warning\n",
    "print('training set shape:\\t', xs_train.shape)\n",
    "print('test set shape:\\t\\t', xs_test.shape)"
   ]
  },
  {
   "cell_type": "markdown",
   "id": "60ae3fc5",
   "metadata": {},
   "source": [
    "Normalize the data"
   ]
  },
  {
   "cell_type": "code",
   "execution_count": 5,
   "id": "4a5a1d1d",
   "metadata": {},
   "outputs": [],
   "source": [
    "mu = np.mean(xs_train, axis=0) \n",
    "sigma = np.std(xs_train, axis=0)\n",
    "\n",
    "xs_train = (xs_train - mu)/sigma\n",
    "xs_test = (xs_test - mu)/sigma"
   ]
  },
  {
   "cell_type": "markdown",
   "id": "445d1cf9",
   "metadata": {},
   "source": [
    "\n",
    "Values should be close to 0"
   ]
  },
  {
   "cell_type": "code",
   "execution_count": 6,
   "id": "cc9cefb1",
   "metadata": {},
   "outputs": [
    {
     "data": {
      "text/plain": [
       "array([-2.58986897e-16,  2.93813195e-17, -1.09977783e-17,  1.48928248e-18,\n",
       "        6.25363865e-18,  8.95456361e-17,  8.73352983e-17,  4.43145773e-17,\n",
       "       -1.76072274e-16,  3.50419407e-17, -6.29676719e-17, -8.32380868e-17,\n",
       "        2.17799139e-17,  9.73626844e-17, -5.28324644e-17, -3.80587822e-15,\n",
       "        3.59799865e-16,  4.73335753e-17, -8.07420224e-15])"
      ]
     },
     "execution_count": 6,
     "metadata": {},
     "output_type": "execute_result"
    }
   ],
   "source": [
    "np.mean(xs_train, axis=0)"
   ]
  },
  {
   "cell_type": "markdown",
   "id": "d344f2a9",
   "metadata": {},
   "source": [
    "If we have properly sampled the dataset, we should get a mean vector for the test set that contains close to zero values"
   ]
  },
  {
   "cell_type": "code",
   "execution_count": 7,
   "id": "5ed0b712",
   "metadata": {},
   "outputs": [
    {
     "data": {
      "text/plain": [
       "array([ 0.00072709,  0.01390276,  0.01242855, -0.0160084 , -0.01068466,\n",
       "       -0.02077284, -0.0053078 ,  0.00663729,  0.00360701,  0.01758527,\n",
       "       -0.01291794,  0.001612  ,  0.00219581, -0.00048917,  0.00267624,\n",
       "        0.00676035, -0.00552899,  0.00069305, -0.00085189])"
      ]
     },
     "execution_count": 7,
     "metadata": {},
     "output_type": "execute_result"
    }
   ],
   "source": [
    "np.mean(xs_test, axis=0)"
   ]
  },
  {
   "cell_type": "markdown",
   "id": "b9214026",
   "metadata": {},
   "source": [
    "Knn algorithm and hyperparameter tuning"
   ]
  },
  {
   "cell_type": "code",
   "execution_count": 8,
   "id": "d510e395",
   "metadata": {},
   "outputs": [],
   "source": [
    "knn_clf = KNeighborsClassifier(n_neighbors=5, metric='euclidean')#Create a knn classifier with the given parameters\n",
    "\n"
   ]
  },
  {
   "cell_type": "code",
   "execution_count": 9,
   "id": "ae05fd25",
   "metadata": {},
   "outputs": [
    {
     "data": {
      "text/plain": [
       "KNeighborsClassifier(metric='euclidean')"
      ]
     },
     "execution_count": 9,
     "metadata": {},
     "output_type": "execute_result"
    }
   ],
   "source": [
    "knn_clf.fit(xs_train, ys_train)"
   ]
  },
  {
   "cell_type": "code",
   "execution_count": 10,
   "id": "bb2c9054",
   "metadata": {},
   "outputs": [
    {
     "name": "stdout",
     "output_type": "stream",
     "text": [
      "Test accuracy of kNN 0.8895362952172857\n"
     ]
    }
   ],
   "source": [
    "ys_test_pred = knn_clf.predict(xs_test)\n",
    "\n",
    "print('Test accuracy of kNN', accuracy_score(ys_test, ys_test_pred))"
   ]
  },
  {
   "cell_type": "code",
   "execution_count": 11,
   "id": "f8492160",
   "metadata": {},
   "outputs": [
    {
     "name": "stdout",
     "output_type": "stream",
     "text": [
      "Test accuracy of kNN 0.8437727603787327\n"
     ]
    }
   ],
   "source": [
    "knn_clf = KNeighborsClassifier(n_neighbors=1, metric='cosine')#Tried different hyperparameters\n",
    "\n",
    "knn_clf.fit(xs_train, ys_train)\n",
    "\n",
    "ys_test_pred = knn_clf.predict(xs_test)\n",
    "\n",
    "print('Test accuracy of kNN', accuracy_score(ys_test, ys_test_pred))"
   ]
  },
  {
   "cell_type": "code",
   "execution_count": 12,
   "id": "013dc31f",
   "metadata": {},
   "outputs": [
    {
     "name": "stdout",
     "output_type": "stream",
     "text": [
      "Fitting 5 folds for each of 60 candidates, totalling 300 fits\n",
      "[CV] END ...metric=euclidean, n_neighbors=1, weights=uniform; total time=   1.8s\n",
      "[CV] END ...metric=euclidean, n_neighbors=1, weights=uniform; total time=   1.7s\n",
      "[CV] END ...metric=euclidean, n_neighbors=1, weights=uniform; total time=   1.7s\n",
      "[CV] END ...metric=euclidean, n_neighbors=1, weights=uniform; total time=   1.7s\n",
      "[CV] END ...metric=euclidean, n_neighbors=1, weights=uniform; total time=   1.7s\n",
      "[CV] END ..metric=euclidean, n_neighbors=1, weights=distance; total time=   1.7s\n",
      "[CV] END ..metric=euclidean, n_neighbors=1, weights=distance; total time=   1.7s\n",
      "[CV] END ..metric=euclidean, n_neighbors=1, weights=distance; total time=   1.7s\n",
      "[CV] END ..metric=euclidean, n_neighbors=1, weights=distance; total time=   1.6s\n",
      "[CV] END ..metric=euclidean, n_neighbors=1, weights=distance; total time=   1.7s\n",
      "[CV] END ...metric=euclidean, n_neighbors=2, weights=uniform; total time=   2.6s\n",
      "[CV] END ...metric=euclidean, n_neighbors=2, weights=uniform; total time=   2.6s\n",
      "[CV] END ...metric=euclidean, n_neighbors=2, weights=uniform; total time=   2.6s\n",
      "[CV] END ...metric=euclidean, n_neighbors=2, weights=uniform; total time=   2.6s\n",
      "[CV] END ...metric=euclidean, n_neighbors=2, weights=uniform; total time=   2.6s\n",
      "[CV] END ..metric=euclidean, n_neighbors=2, weights=distance; total time=   2.5s\n",
      "[CV] END ..metric=euclidean, n_neighbors=2, weights=distance; total time=   2.5s\n",
      "[CV] END ..metric=euclidean, n_neighbors=2, weights=distance; total time=   2.5s\n",
      "[CV] END ..metric=euclidean, n_neighbors=2, weights=distance; total time=   2.5s\n",
      "[CV] END ..metric=euclidean, n_neighbors=2, weights=distance; total time=   2.6s\n",
      "[CV] END ...metric=euclidean, n_neighbors=3, weights=uniform; total time=   3.5s\n",
      "[CV] END ...metric=euclidean, n_neighbors=3, weights=uniform; total time=   3.5s\n",
      "[CV] END ...metric=euclidean, n_neighbors=3, weights=uniform; total time=   3.4s\n",
      "[CV] END ...metric=euclidean, n_neighbors=3, weights=uniform; total time=   3.5s\n",
      "[CV] END ...metric=euclidean, n_neighbors=3, weights=uniform; total time=   3.4s\n",
      "[CV] END ..metric=euclidean, n_neighbors=3, weights=distance; total time=   3.4s\n",
      "[CV] END ..metric=euclidean, n_neighbors=3, weights=distance; total time=   3.4s\n",
      "[CV] END ..metric=euclidean, n_neighbors=3, weights=distance; total time=   3.4s\n",
      "[CV] END ..metric=euclidean, n_neighbors=3, weights=distance; total time=   3.6s\n",
      "[CV] END ..metric=euclidean, n_neighbors=3, weights=distance; total time=   3.4s\n",
      "[CV] END ...metric=euclidean, n_neighbors=4, weights=uniform; total time=   2.1s\n",
      "[CV] END ...metric=euclidean, n_neighbors=4, weights=uniform; total time=   2.1s\n",
      "[CV] END ...metric=euclidean, n_neighbors=4, weights=uniform; total time=   2.2s\n",
      "[CV] END ...metric=euclidean, n_neighbors=4, weights=uniform; total time=   2.2s\n",
      "[CV] END ...metric=euclidean, n_neighbors=4, weights=uniform; total time=   2.3s\n",
      "[CV] END ..metric=euclidean, n_neighbors=4, weights=distance; total time=   2.0s\n",
      "[CV] END ..metric=euclidean, n_neighbors=4, weights=distance; total time=   2.0s\n",
      "[CV] END ..metric=euclidean, n_neighbors=4, weights=distance; total time=   2.2s\n",
      "[CV] END ..metric=euclidean, n_neighbors=4, weights=distance; total time=   2.1s\n",
      "[CV] END ..metric=euclidean, n_neighbors=4, weights=distance; total time=   2.3s\n",
      "[CV] END ...metric=euclidean, n_neighbors=5, weights=uniform; total time=   2.1s\n",
      "[CV] END ...metric=euclidean, n_neighbors=5, weights=uniform; total time=   2.1s\n",
      "[CV] END ...metric=euclidean, n_neighbors=5, weights=uniform; total time=   2.3s\n",
      "[CV] END ...metric=euclidean, n_neighbors=5, weights=uniform; total time=   2.2s\n",
      "[CV] END ...metric=euclidean, n_neighbors=5, weights=uniform; total time=   2.3s\n",
      "[CV] END ..metric=euclidean, n_neighbors=5, weights=distance; total time=   2.0s\n",
      "[CV] END ..metric=euclidean, n_neighbors=5, weights=distance; total time=   2.0s\n",
      "[CV] END ..metric=euclidean, n_neighbors=5, weights=distance; total time=   2.2s\n",
      "[CV] END ..metric=euclidean, n_neighbors=5, weights=distance; total time=   2.1s\n",
      "[CV] END ..metric=euclidean, n_neighbors=5, weights=distance; total time=   2.3s\n",
      "[CV] END ...metric=euclidean, n_neighbors=6, weights=uniform; total time=   2.1s\n",
      "[CV] END ...metric=euclidean, n_neighbors=6, weights=uniform; total time=   2.1s\n",
      "[CV] END ...metric=euclidean, n_neighbors=6, weights=uniform; total time=   2.3s\n",
      "[CV] END ...metric=euclidean, n_neighbors=6, weights=uniform; total time=   2.2s\n",
      "[CV] END ...metric=euclidean, n_neighbors=6, weights=uniform; total time=   2.4s\n",
      "[CV] END ..metric=euclidean, n_neighbors=6, weights=distance; total time=   2.0s\n",
      "[CV] END ..metric=euclidean, n_neighbors=6, weights=distance; total time=   2.1s\n",
      "[CV] END ..metric=euclidean, n_neighbors=6, weights=distance; total time=   2.3s\n",
      "[CV] END ..metric=euclidean, n_neighbors=6, weights=distance; total time=   2.2s\n",
      "[CV] END ..metric=euclidean, n_neighbors=6, weights=distance; total time=   2.3s\n",
      "[CV] END ...metric=euclidean, n_neighbors=7, weights=uniform; total time=   2.1s\n",
      "[CV] END ...metric=euclidean, n_neighbors=7, weights=uniform; total time=   2.1s\n",
      "[CV] END ...metric=euclidean, n_neighbors=7, weights=uniform; total time=   2.3s\n",
      "[CV] END ...metric=euclidean, n_neighbors=7, weights=uniform; total time=   2.2s\n",
      "[CV] END ...metric=euclidean, n_neighbors=7, weights=uniform; total time=   2.4s\n",
      "[CV] END ..metric=euclidean, n_neighbors=7, weights=distance; total time=   2.1s\n",
      "[CV] END ..metric=euclidean, n_neighbors=7, weights=distance; total time=   2.1s\n",
      "[CV] END ..metric=euclidean, n_neighbors=7, weights=distance; total time=   2.2s\n",
      "[CV] END ..metric=euclidean, n_neighbors=7, weights=distance; total time=   2.2s\n",
      "[CV] END ..metric=euclidean, n_neighbors=7, weights=distance; total time=   2.3s\n",
      "[CV] END ...metric=euclidean, n_neighbors=8, weights=uniform; total time=   2.1s\n",
      "[CV] END ...metric=euclidean, n_neighbors=8, weights=uniform; total time=   2.1s\n",
      "[CV] END ...metric=euclidean, n_neighbors=8, weights=uniform; total time=   2.3s\n",
      "[CV] END ...metric=euclidean, n_neighbors=8, weights=uniform; total time=   2.2s\n",
      "[CV] END ...metric=euclidean, n_neighbors=8, weights=uniform; total time=   2.4s\n",
      "[CV] END ..metric=euclidean, n_neighbors=8, weights=distance; total time=   2.1s\n",
      "[CV] END ..metric=euclidean, n_neighbors=8, weights=distance; total time=   2.1s\n",
      "[CV] END ..metric=euclidean, n_neighbors=8, weights=distance; total time=   2.2s\n",
      "[CV] END ..metric=euclidean, n_neighbors=8, weights=distance; total time=   2.2s\n",
      "[CV] END ..metric=euclidean, n_neighbors=8, weights=distance; total time=   2.3s\n",
      "[CV] END ...metric=euclidean, n_neighbors=9, weights=uniform; total time=   2.1s\n",
      "[CV] END ...metric=euclidean, n_neighbors=9, weights=uniform; total time=   2.1s\n",
      "[CV] END ...metric=euclidean, n_neighbors=9, weights=uniform; total time=   2.3s\n",
      "[CV] END ...metric=euclidean, n_neighbors=9, weights=uniform; total time=   2.2s\n",
      "[CV] END ...metric=euclidean, n_neighbors=9, weights=uniform; total time=   2.4s\n",
      "[CV] END ..metric=euclidean, n_neighbors=9, weights=distance; total time=   2.1s\n",
      "[CV] END ..metric=euclidean, n_neighbors=9, weights=distance; total time=   2.1s\n",
      "[CV] END ..metric=euclidean, n_neighbors=9, weights=distance; total time=   2.3s\n",
      "[CV] END ..metric=euclidean, n_neighbors=9, weights=distance; total time=   2.2s\n",
      "[CV] END ..metric=euclidean, n_neighbors=9, weights=distance; total time=   2.3s\n",
      "[CV] END ..metric=euclidean, n_neighbors=10, weights=uniform; total time=   2.1s\n",
      "[CV] END ..metric=euclidean, n_neighbors=10, weights=uniform; total time=   2.1s\n",
      "[CV] END ..metric=euclidean, n_neighbors=10, weights=uniform; total time=   2.3s\n",
      "[CV] END ..metric=euclidean, n_neighbors=10, weights=uniform; total time=   2.2s\n",
      "[CV] END ..metric=euclidean, n_neighbors=10, weights=uniform; total time=   2.4s\n",
      "[CV] END .metric=euclidean, n_neighbors=10, weights=distance; total time=   2.1s\n",
      "[CV] END .metric=euclidean, n_neighbors=10, weights=distance; total time=   2.1s\n",
      "[CV] END .metric=euclidean, n_neighbors=10, weights=distance; total time=   2.3s\n",
      "[CV] END .metric=euclidean, n_neighbors=10, weights=distance; total time=   2.2s\n",
      "[CV] END .metric=euclidean, n_neighbors=10, weights=distance; total time=   2.3s\n",
      "[CV] END ...metric=manhattan, n_neighbors=1, weights=uniform; total time=   2.1s\n"
     ]
    },
    {
     "name": "stdout",
     "output_type": "stream",
     "text": [
      "[CV] END ...metric=manhattan, n_neighbors=1, weights=uniform; total time=   2.1s\n",
      "[CV] END ...metric=manhattan, n_neighbors=1, weights=uniform; total time=   2.1s\n",
      "[CV] END ...metric=manhattan, n_neighbors=1, weights=uniform; total time=   2.1s\n",
      "[CV] END ...metric=manhattan, n_neighbors=1, weights=uniform; total time=   2.1s\n",
      "[CV] END ..metric=manhattan, n_neighbors=1, weights=distance; total time=   2.1s\n",
      "[CV] END ..metric=manhattan, n_neighbors=1, weights=distance; total time=   2.1s\n",
      "[CV] END ..metric=manhattan, n_neighbors=1, weights=distance; total time=   2.1s\n",
      "[CV] END ..metric=manhattan, n_neighbors=1, weights=distance; total time=   2.1s\n",
      "[CV] END ..metric=manhattan, n_neighbors=1, weights=distance; total time=   2.1s\n",
      "[CV] END ...metric=manhattan, n_neighbors=2, weights=uniform; total time=   3.0s\n",
      "[CV] END ...metric=manhattan, n_neighbors=2, weights=uniform; total time=   3.0s\n",
      "[CV] END ...metric=manhattan, n_neighbors=2, weights=uniform; total time=   3.0s\n",
      "[CV] END ...metric=manhattan, n_neighbors=2, weights=uniform; total time=   3.0s\n",
      "[CV] END ...metric=manhattan, n_neighbors=2, weights=uniform; total time=   3.0s\n",
      "[CV] END ..metric=manhattan, n_neighbors=2, weights=distance; total time=   3.0s\n",
      "[CV] END ..metric=manhattan, n_neighbors=2, weights=distance; total time=   3.0s\n",
      "[CV] END ..metric=manhattan, n_neighbors=2, weights=distance; total time=   3.0s\n",
      "[CV] END ..metric=manhattan, n_neighbors=2, weights=distance; total time=   3.0s\n",
      "[CV] END ..metric=manhattan, n_neighbors=2, weights=distance; total time=   3.0s\n",
      "[CV] END ...metric=manhattan, n_neighbors=3, weights=uniform; total time=   3.9s\n",
      "[CV] END ...metric=manhattan, n_neighbors=3, weights=uniform; total time=   3.9s\n",
      "[CV] END ...metric=manhattan, n_neighbors=3, weights=uniform; total time=   3.9s\n",
      "[CV] END ...metric=manhattan, n_neighbors=3, weights=uniform; total time=   3.9s\n",
      "[CV] END ...metric=manhattan, n_neighbors=3, weights=uniform; total time=   3.9s\n",
      "[CV] END ..metric=manhattan, n_neighbors=3, weights=distance; total time=   3.8s\n",
      "[CV] END ..metric=manhattan, n_neighbors=3, weights=distance; total time=   3.8s\n",
      "[CV] END ..metric=manhattan, n_neighbors=3, weights=distance; total time=   3.8s\n",
      "[CV] END ..metric=manhattan, n_neighbors=3, weights=distance; total time=   3.8s\n",
      "[CV] END ..metric=manhattan, n_neighbors=3, weights=distance; total time=   3.8s\n",
      "[CV] END ...metric=manhattan, n_neighbors=4, weights=uniform; total time=   2.6s\n",
      "[CV] END ...metric=manhattan, n_neighbors=4, weights=uniform; total time=   2.6s\n",
      "[CV] END ...metric=manhattan, n_neighbors=4, weights=uniform; total time=   2.8s\n",
      "[CV] END ...metric=manhattan, n_neighbors=4, weights=uniform; total time=   2.7s\n",
      "[CV] END ...metric=manhattan, n_neighbors=4, weights=uniform; total time=   2.7s\n",
      "[CV] END ..metric=manhattan, n_neighbors=4, weights=distance; total time=   2.5s\n",
      "[CV] END ..metric=manhattan, n_neighbors=4, weights=distance; total time=   2.6s\n",
      "[CV] END ..metric=manhattan, n_neighbors=4, weights=distance; total time=   2.7s\n",
      "[CV] END ..metric=manhattan, n_neighbors=4, weights=distance; total time=   2.6s\n",
      "[CV] END ..metric=manhattan, n_neighbors=4, weights=distance; total time=   2.7s\n",
      "[CV] END ...metric=manhattan, n_neighbors=5, weights=uniform; total time=   2.6s\n",
      "[CV] END ...metric=manhattan, n_neighbors=5, weights=uniform; total time=   2.6s\n",
      "[CV] END ...metric=manhattan, n_neighbors=5, weights=uniform; total time=   2.8s\n",
      "[CV] END ...metric=manhattan, n_neighbors=5, weights=uniform; total time=   2.7s\n",
      "[CV] END ...metric=manhattan, n_neighbors=5, weights=uniform; total time=   2.7s\n",
      "[CV] END ..metric=manhattan, n_neighbors=5, weights=distance; total time=   2.5s\n",
      "[CV] END ..metric=manhattan, n_neighbors=5, weights=distance; total time=   2.5s\n",
      "[CV] END ..metric=manhattan, n_neighbors=5, weights=distance; total time=   2.7s\n",
      "[CV] END ..metric=manhattan, n_neighbors=5, weights=distance; total time=   2.7s\n",
      "[CV] END ..metric=manhattan, n_neighbors=5, weights=distance; total time=   2.7s\n",
      "[CV] END ...metric=manhattan, n_neighbors=6, weights=uniform; total time=   2.6s\n",
      "[CV] END ...metric=manhattan, n_neighbors=6, weights=uniform; total time=   2.6s\n",
      "[CV] END ...metric=manhattan, n_neighbors=6, weights=uniform; total time=   2.8s\n",
      "[CV] END ...metric=manhattan, n_neighbors=6, weights=uniform; total time=   2.7s\n",
      "[CV] END ...metric=manhattan, n_neighbors=6, weights=uniform; total time=   2.7s\n",
      "[CV] END ..metric=manhattan, n_neighbors=6, weights=distance; total time=   2.5s\n",
      "[CV] END ..metric=manhattan, n_neighbors=6, weights=distance; total time=   2.5s\n",
      "[CV] END ..metric=manhattan, n_neighbors=6, weights=distance; total time=   2.7s\n",
      "[CV] END ..metric=manhattan, n_neighbors=6, weights=distance; total time=   2.7s\n",
      "[CV] END ..metric=manhattan, n_neighbors=6, weights=distance; total time=   2.7s\n",
      "[CV] END ...metric=manhattan, n_neighbors=7, weights=uniform; total time=   2.6s\n",
      "[CV] END ...metric=manhattan, n_neighbors=7, weights=uniform; total time=   2.6s\n",
      "[CV] END ...metric=manhattan, n_neighbors=7, weights=uniform; total time=   2.8s\n",
      "[CV] END ...metric=manhattan, n_neighbors=7, weights=uniform; total time=   2.7s\n",
      "[CV] END ...metric=manhattan, n_neighbors=7, weights=uniform; total time=   2.7s\n",
      "[CV] END ..metric=manhattan, n_neighbors=7, weights=distance; total time=   2.6s\n",
      "[CV] END ..metric=manhattan, n_neighbors=7, weights=distance; total time=   2.6s\n",
      "[CV] END ..metric=manhattan, n_neighbors=7, weights=distance; total time=   2.7s\n",
      "[CV] END ..metric=manhattan, n_neighbors=7, weights=distance; total time=   2.7s\n",
      "[CV] END ..metric=manhattan, n_neighbors=7, weights=distance; total time=   2.7s\n",
      "[CV] END ...metric=manhattan, n_neighbors=8, weights=uniform; total time=   2.6s\n",
      "[CV] END ...metric=manhattan, n_neighbors=8, weights=uniform; total time=   2.7s\n",
      "[CV] END ...metric=manhattan, n_neighbors=8, weights=uniform; total time=   2.8s\n",
      "[CV] END ...metric=manhattan, n_neighbors=8, weights=uniform; total time=   2.9s\n",
      "[CV] END ...metric=manhattan, n_neighbors=8, weights=uniform; total time=   2.9s\n",
      "[CV] END ..metric=manhattan, n_neighbors=8, weights=distance; total time=   2.6s\n",
      "[CV] END ..metric=manhattan, n_neighbors=8, weights=distance; total time=   2.6s\n",
      "[CV] END ..metric=manhattan, n_neighbors=8, weights=distance; total time=   2.8s\n",
      "[CV] END ..metric=manhattan, n_neighbors=8, weights=distance; total time=   2.7s\n",
      "[CV] END ..metric=manhattan, n_neighbors=8, weights=distance; total time=   2.7s\n",
      "[CV] END ...metric=manhattan, n_neighbors=9, weights=uniform; total time=   2.6s\n",
      "[CV] END ...metric=manhattan, n_neighbors=9, weights=uniform; total time=   2.6s\n",
      "[CV] END ...metric=manhattan, n_neighbors=9, weights=uniform; total time=   2.8s\n",
      "[CV] END ...metric=manhattan, n_neighbors=9, weights=uniform; total time=   2.7s\n",
      "[CV] END ...metric=manhattan, n_neighbors=9, weights=uniform; total time=   2.7s\n",
      "[CV] END ..metric=manhattan, n_neighbors=9, weights=distance; total time=   2.5s\n",
      "[CV] END ..metric=manhattan, n_neighbors=9, weights=distance; total time=   2.5s\n",
      "[CV] END ..metric=manhattan, n_neighbors=9, weights=distance; total time=   2.7s\n",
      "[CV] END ..metric=manhattan, n_neighbors=9, weights=distance; total time=   2.6s\n",
      "[CV] END ..metric=manhattan, n_neighbors=9, weights=distance; total time=   2.7s\n",
      "[CV] END ..metric=manhattan, n_neighbors=10, weights=uniform; total time=   2.6s\n",
      "[CV] END ..metric=manhattan, n_neighbors=10, weights=uniform; total time=   2.6s\n",
      "[CV] END ..metric=manhattan, n_neighbors=10, weights=uniform; total time=   2.7s\n",
      "[CV] END ..metric=manhattan, n_neighbors=10, weights=uniform; total time=   2.7s\n",
      "[CV] END ..metric=manhattan, n_neighbors=10, weights=uniform; total time=   2.7s\n",
      "[CV] END .metric=manhattan, n_neighbors=10, weights=distance; total time=   2.5s\n",
      "[CV] END .metric=manhattan, n_neighbors=10, weights=distance; total time=   2.5s\n",
      "[CV] END .metric=manhattan, n_neighbors=10, weights=distance; total time=   2.7s\n",
      "[CV] END .metric=manhattan, n_neighbors=10, weights=distance; total time=   2.6s\n",
      "[CV] END .metric=manhattan, n_neighbors=10, weights=distance; total time=   2.6s\n",
      "[CV] END ......metric=cosine, n_neighbors=1, weights=uniform; total time=   1.8s\n",
      "[CV] END ......metric=cosine, n_neighbors=1, weights=uniform; total time=   1.8s\n",
      "[CV] END ......metric=cosine, n_neighbors=1, weights=uniform; total time=   1.8s\n"
     ]
    },
    {
     "name": "stdout",
     "output_type": "stream",
     "text": [
      "[CV] END ......metric=cosine, n_neighbors=1, weights=uniform; total time=   1.8s\n",
      "[CV] END ......metric=cosine, n_neighbors=1, weights=uniform; total time=   1.8s\n",
      "[CV] END .....metric=cosine, n_neighbors=1, weights=distance; total time=   1.9s\n",
      "[CV] END .....metric=cosine, n_neighbors=1, weights=distance; total time=   1.8s\n",
      "[CV] END .....metric=cosine, n_neighbors=1, weights=distance; total time=   1.7s\n",
      "[CV] END .....metric=cosine, n_neighbors=1, weights=distance; total time=   1.8s\n",
      "[CV] END .....metric=cosine, n_neighbors=1, weights=distance; total time=   1.7s\n",
      "[CV] END ......metric=cosine, n_neighbors=2, weights=uniform; total time=   2.6s\n",
      "[CV] END ......metric=cosine, n_neighbors=2, weights=uniform; total time=   2.6s\n",
      "[CV] END ......metric=cosine, n_neighbors=2, weights=uniform; total time=   2.6s\n",
      "[CV] END ......metric=cosine, n_neighbors=2, weights=uniform; total time=   2.6s\n",
      "[CV] END ......metric=cosine, n_neighbors=2, weights=uniform; total time=   2.7s\n",
      "[CV] END .....metric=cosine, n_neighbors=2, weights=distance; total time=   2.6s\n",
      "[CV] END .....metric=cosine, n_neighbors=2, weights=distance; total time=   2.6s\n",
      "[CV] END .....metric=cosine, n_neighbors=2, weights=distance; total time=   2.6s\n",
      "[CV] END .....metric=cosine, n_neighbors=2, weights=distance; total time=   2.6s\n",
      "[CV] END .....metric=cosine, n_neighbors=2, weights=distance; total time=   2.6s\n",
      "[CV] END ......metric=cosine, n_neighbors=3, weights=uniform; total time=   3.5s\n",
      "[CV] END ......metric=cosine, n_neighbors=3, weights=uniform; total time=   3.5s\n",
      "[CV] END ......metric=cosine, n_neighbors=3, weights=uniform; total time=   3.5s\n",
      "[CV] END ......metric=cosine, n_neighbors=3, weights=uniform; total time=   3.5s\n",
      "[CV] END ......metric=cosine, n_neighbors=3, weights=uniform; total time=   3.5s\n",
      "[CV] END .....metric=cosine, n_neighbors=3, weights=distance; total time=   3.5s\n",
      "[CV] END .....metric=cosine, n_neighbors=3, weights=distance; total time=   3.5s\n",
      "[CV] END .....metric=cosine, n_neighbors=3, weights=distance; total time=   3.5s\n",
      "[CV] END .....metric=cosine, n_neighbors=3, weights=distance; total time=   3.5s\n",
      "[CV] END .....metric=cosine, n_neighbors=3, weights=distance; total time=   3.5s\n",
      "[CV] END ......metric=cosine, n_neighbors=4, weights=uniform; total time=   2.2s\n",
      "[CV] END ......metric=cosine, n_neighbors=4, weights=uniform; total time=   2.2s\n",
      "[CV] END ......metric=cosine, n_neighbors=4, weights=uniform; total time=   2.4s\n",
      "[CV] END ......metric=cosine, n_neighbors=4, weights=uniform; total time=   2.3s\n",
      "[CV] END ......metric=cosine, n_neighbors=4, weights=uniform; total time=   2.3s\n",
      "[CV] END .....metric=cosine, n_neighbors=4, weights=distance; total time=   2.2s\n",
      "[CV] END .....metric=cosine, n_neighbors=4, weights=distance; total time=   2.2s\n",
      "[CV] END .....metric=cosine, n_neighbors=4, weights=distance; total time=   2.3s\n",
      "[CV] END .....metric=cosine, n_neighbors=4, weights=distance; total time=   2.3s\n",
      "[CV] END .....metric=cosine, n_neighbors=4, weights=distance; total time=   2.3s\n",
      "[CV] END ......metric=cosine, n_neighbors=5, weights=uniform; total time=   2.2s\n",
      "[CV] END ......metric=cosine, n_neighbors=5, weights=uniform; total time=   2.2s\n",
      "[CV] END ......metric=cosine, n_neighbors=5, weights=uniform; total time=   2.4s\n",
      "[CV] END ......metric=cosine, n_neighbors=5, weights=uniform; total time=   2.4s\n",
      "[CV] END ......metric=cosine, n_neighbors=5, weights=uniform; total time=   2.4s\n",
      "[CV] END .....metric=cosine, n_neighbors=5, weights=distance; total time=   2.2s\n",
      "[CV] END .....metric=cosine, n_neighbors=5, weights=distance; total time=   2.2s\n",
      "[CV] END .....metric=cosine, n_neighbors=5, weights=distance; total time=   2.4s\n",
      "[CV] END .....metric=cosine, n_neighbors=5, weights=distance; total time=   2.3s\n",
      "[CV] END .....metric=cosine, n_neighbors=5, weights=distance; total time=   2.3s\n",
      "[CV] END ......metric=cosine, n_neighbors=6, weights=uniform; total time=   2.3s\n",
      "[CV] END ......metric=cosine, n_neighbors=6, weights=uniform; total time=   2.3s\n",
      "[CV] END ......metric=cosine, n_neighbors=6, weights=uniform; total time=   2.4s\n",
      "[CV] END ......metric=cosine, n_neighbors=6, weights=uniform; total time=   2.4s\n",
      "[CV] END ......metric=cosine, n_neighbors=6, weights=uniform; total time=   2.4s\n",
      "[CV] END .....metric=cosine, n_neighbors=6, weights=distance; total time=   2.2s\n",
      "[CV] END .....metric=cosine, n_neighbors=6, weights=distance; total time=   2.2s\n",
      "[CV] END .....metric=cosine, n_neighbors=6, weights=distance; total time=   2.4s\n",
      "[CV] END .....metric=cosine, n_neighbors=6, weights=distance; total time=   2.3s\n",
      "[CV] END .....metric=cosine, n_neighbors=6, weights=distance; total time=   2.3s\n",
      "[CV] END ......metric=cosine, n_neighbors=7, weights=uniform; total time=   2.2s\n",
      "[CV] END ......metric=cosine, n_neighbors=7, weights=uniform; total time=   2.2s\n",
      "[CV] END ......metric=cosine, n_neighbors=7, weights=uniform; total time=   2.4s\n",
      "[CV] END ......metric=cosine, n_neighbors=7, weights=uniform; total time=   2.4s\n",
      "[CV] END ......metric=cosine, n_neighbors=7, weights=uniform; total time=   2.4s\n",
      "[CV] END .....metric=cosine, n_neighbors=7, weights=distance; total time=   2.2s\n",
      "[CV] END .....metric=cosine, n_neighbors=7, weights=distance; total time=   2.2s\n",
      "[CV] END .....metric=cosine, n_neighbors=7, weights=distance; total time=   2.6s\n",
      "[CV] END .....metric=cosine, n_neighbors=7, weights=distance; total time=   2.3s\n",
      "[CV] END .....metric=cosine, n_neighbors=7, weights=distance; total time=   2.3s\n",
      "[CV] END ......metric=cosine, n_neighbors=8, weights=uniform; total time=   2.4s\n",
      "[CV] END ......metric=cosine, n_neighbors=8, weights=uniform; total time=   2.2s\n",
      "[CV] END ......metric=cosine, n_neighbors=8, weights=uniform; total time=   2.4s\n",
      "[CV] END ......metric=cosine, n_neighbors=8, weights=uniform; total time=   2.3s\n",
      "[CV] END ......metric=cosine, n_neighbors=8, weights=uniform; total time=   2.4s\n",
      "[CV] END .....metric=cosine, n_neighbors=8, weights=distance; total time=   2.2s\n",
      "[CV] END .....metric=cosine, n_neighbors=8, weights=distance; total time=   2.2s\n",
      "[CV] END .....metric=cosine, n_neighbors=8, weights=distance; total time=   2.3s\n",
      "[CV] END .....metric=cosine, n_neighbors=8, weights=distance; total time=   2.3s\n",
      "[CV] END .....metric=cosine, n_neighbors=8, weights=distance; total time=   2.3s\n",
      "[CV] END ......metric=cosine, n_neighbors=9, weights=uniform; total time=   2.2s\n",
      "[CV] END ......metric=cosine, n_neighbors=9, weights=uniform; total time=   2.2s\n",
      "[CV] END ......metric=cosine, n_neighbors=9, weights=uniform; total time=   2.4s\n",
      "[CV] END ......metric=cosine, n_neighbors=9, weights=uniform; total time=   2.3s\n",
      "[CV] END ......metric=cosine, n_neighbors=9, weights=uniform; total time=   2.3s\n",
      "[CV] END .....metric=cosine, n_neighbors=9, weights=distance; total time=   2.1s\n",
      "[CV] END .....metric=cosine, n_neighbors=9, weights=distance; total time=   2.1s\n",
      "[CV] END .....metric=cosine, n_neighbors=9, weights=distance; total time=   2.3s\n",
      "[CV] END .....metric=cosine, n_neighbors=9, weights=distance; total time=   2.3s\n",
      "[CV] END .....metric=cosine, n_neighbors=9, weights=distance; total time=   2.3s\n",
      "[CV] END .....metric=cosine, n_neighbors=10, weights=uniform; total time=   2.2s\n",
      "[CV] END .....metric=cosine, n_neighbors=10, weights=uniform; total time=   2.2s\n",
      "[CV] END .....metric=cosine, n_neighbors=10, weights=uniform; total time=   2.4s\n",
      "[CV] END .....metric=cosine, n_neighbors=10, weights=uniform; total time=   2.3s\n",
      "[CV] END .....metric=cosine, n_neighbors=10, weights=uniform; total time=   2.4s\n",
      "[CV] END ....metric=cosine, n_neighbors=10, weights=distance; total time=   2.2s\n",
      "[CV] END ....metric=cosine, n_neighbors=10, weights=distance; total time=   2.2s\n",
      "[CV] END ....metric=cosine, n_neighbors=10, weights=distance; total time=   2.3s\n",
      "[CV] END ....metric=cosine, n_neighbors=10, weights=distance; total time=   2.3s\n",
      "[CV] END ....metric=cosine, n_neighbors=10, weights=distance; total time=   2.3s\n"
     ]
    },
    {
     "data": {
      "text/plain": [
       "GridSearchCV(cv=5, estimator=KNeighborsClassifier(),\n",
       "             param_grid=[{'metric': ['euclidean', 'manhattan', 'cosine'],\n",
       "                          'n_neighbors': range(1, 11),\n",
       "                          'weights': ['uniform', 'distance']}],\n",
       "             verbose=2)"
      ]
     },
     "execution_count": 12,
     "metadata": {},
     "output_type": "execute_result"
    }
   ],
   "source": [
    "param_grid = [{\n",
    "    'weights': [\"uniform\", \"distance\"],#hyperparameters, try all of them \n",
    "    'n_neighbors': range(1, 11),\n",
    "    'metric':['euclidean', 'manhattan', 'cosine']}]\n",
    "\n",
    "knn_clf = KNeighborsClassifier()#Assigns a cluster, testing all the cluster numbers 1 through 11\n",
    "grid_search = GridSearchCV(knn_clf, param_grid, cv=5, verbose=2)#Similar to a nested for loop\n",
    "grid_search.fit(xs_train, ys_train)"
   ]
  },
  {
   "cell_type": "code",
   "execution_count": 13,
   "id": "7826d79b",
   "metadata": {},
   "outputs": [
    {
     "data": {
      "text/plain": [
       "KNeighborsClassifier(metric='euclidean', n_neighbors=10)"
      ]
     },
     "execution_count": 13,
     "metadata": {},
     "output_type": "execute_result"
    }
   ],
   "source": [
    "grid_search.best_estimator_#which hyperparameter had the best accurary for the given data"
   ]
  },
  {
   "cell_type": "code",
   "execution_count": 14,
   "id": "86ef51c6",
   "metadata": {},
   "outputs": [
    {
     "name": "stdout",
     "output_type": "stream",
     "text": [
      "Train accuracy of kNN 0.9055538694992413\n",
      "Test accuracy of kNN 0.8968196164117505\n",
      "Training classification_report:\n",
      "               precision    recall  f1-score   support\n",
      "\n",
      "         0.0       0.91      0.99      0.95     29225\n",
      "         1.0       0.72      0.27      0.39      3725\n",
      "\n",
      "    accuracy                           0.91     32950\n",
      "   macro avg       0.82      0.63      0.67     32950\n",
      "weighted avg       0.89      0.91      0.89     32950\n",
      "\n",
      "Testing classification_report:\n",
      "               precision    recall  f1-score   support\n",
      "\n",
      "         0.0       0.91      0.98      0.94      7323\n",
      "         1.0       0.59      0.22      0.33       915\n",
      "\n",
      "    accuracy                           0.90      8238\n",
      "   macro avg       0.75      0.60      0.63      8238\n",
      "weighted avg       0.87      0.90      0.88      8238\n",
      "\n"
     ]
    }
   ],
   "source": [
    "knn_clf = KNeighborsClassifier(metric='euclidean', n_neighbors=10)\n",
    "\n",
    "knn_clf.fit(xs_train, ys_train)\n",
    "\n",
    "ys_train_pred = knn_clf.predict(xs_train)\n",
    "ys_test_pred = knn_clf.predict(xs_test)\n",
    "\n",
    "print('Train accuracy of kNN', accuracy_score(ys_train, ys_train_pred))#best case for result of your model.Overfit case\n",
    "print('Test accuracy of kNN', accuracy_score(ys_test, ys_test_pred))#realistic for result of your model. Same distribution of your train data\n",
    "print(\"Training classification_report:\\n\", classification_report(ys_train, ys_train_pred))\n",
    "print(\"Testing classification_report:\\n\", classification_report(ys_test,ys_test_pred)) "
   ]
  },
  {
   "cell_type": "markdown",
   "id": "d77ee77d",
   "metadata": {},
   "source": [
    "### Try Support Vector Machines\n",
    "\n",
    "Here I will introduce you how to use the Support Vector Machine (SVM) implementation of scikit-learn.\n",
    "\n",
    "Note how we are setting the $C$ hyper-parameter of SVM. $C$ controls the trade-off between having a small and strict\n",
    "margin and a wider and loose margin. Following we will set $C$ to infinity which makes the margin infinitely strict.\n",
    "This means that based on the dataset, the fitting of the SVM may fail if the training algorithm fails to separate all\n",
    "the training examples perfectly."
   ]
  },
  {
   "cell_type": "code",
   "execution_count": null,
   "id": "17f3b94a",
   "metadata": {},
   "outputs": [],
   "source": [
    "from sklearn.svm import SVC\n",
    "\n",
    "svm_clf = SVC(kernel=\"linear\", C=float(\"inf\"))"
   ]
  },
  {
   "cell_type": "markdown",
   "id": "c30f984f",
   "metadata": {},
   "source": [
    "### Same procedure as previous knn"
   ]
  }
 ],
 "metadata": {
  "kernelspec": {
   "display_name": "Python 3 (ipykernel)",
   "language": "python",
   "name": "python3"
  },
  "language_info": {
   "codemirror_mode": {
    "name": "ipython",
    "version": 3
   },
   "file_extension": ".py",
   "mimetype": "text/x-python",
   "name": "python",
   "nbconvert_exporter": "python",
   "pygments_lexer": "ipython3",
   "version": "3.11.7"
  }
 },
 "nbformat": 4,
 "nbformat_minor": 5
}
