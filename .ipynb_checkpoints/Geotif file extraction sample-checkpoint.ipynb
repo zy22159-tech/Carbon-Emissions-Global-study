{
 "cells": [
  {
   "cell_type": "code",
   "execution_count": 2,
   "id": "efb45f67",
   "metadata": {},
   "outputs": [],
   "source": [
    "import pandas as pd\n",
    "import numpy as np\n",
    "from osgeo import gdal, gdal_array"
   ]
  },
  {
   "cell_type": "code",
   "execution_count": 24,
   "id": "8d71900e-8698-48bd-8dff-e162cf41cc8f",
   "metadata": {},
   "outputs": [],
   "source": [
    "df = pd.read_csv('Data\\estimation_dataset.csv')"
   ]
  },
  {
   "cell_type": "code",
   "execution_count": 36,
   "id": "be3f17a8-31b4-440a-afe3-23beff6f738e",
   "metadata": {},
   "outputs": [],
   "source": [
    "# Function to convert from world coordinates to pixel coordinates\n",
    "def world_to_pixel(geo_transform, x, y):\n",
    "    ulX = geo_transform[0]\n",
    "    ulY = geo_transform[3]\n",
    "    xDist = geo_transform[1]\n",
    "    yDist = geo_transform[5]\n",
    "    rtnX = geo_transform[2]\n",
    "    rtnY = geo_transform[4]\n",
    "    \n",
    "    pixel = int((x - ulX) / xDist)\n",
    "    line = int((y - ulY) / yDist)\n",
    "    \n",
    "    return pixel, line\n",
    "\n",
    "# Open the TIF file\n",
    "input_raster = gdal.Open('C:/Users/zilin wang/Downloads/CHELSA_sfcWind_01_1981-2010_V.2.1.tif')\n",
    "\n",
    "# Get raster band\n",
    "band = input_raster.GetRasterBand(1)\n",
    "\n",
    "# Get geo-transform\n",
    "geo_transform = input_raster.GetGeoTransform()\n",
    "\n",
    "# Function to get wind speed for given lat/lon\n",
    "def get_wind_speed(lat, lon):\n",
    "    # Convert lat/lon to pixel coordinates\n",
    "    x, y = world_to_pixel(geo_transform, lon, lat)\n",
    "    \n",
    "    # Read the value at the pixel coordinates\n",
    "    wind_speed = band.ReadAsArray(x, y, 1, 1)\n",
    "    \n",
    "    return wind_speed[0][0]\n",
    "\n",
    "df['wind_speed(1)'] = df.apply(lambda row: get_wind_speed(row['Lat'], row['Long']), axis=1)"
   ]
  },
  {
   "cell_type": "code",
   "execution_count": 37,
   "id": "50b58a00-1b63-418e-a1c7-0f28a751fcc1",
   "metadata": {},
   "outputs": [
    {
     "data": {
      "text/plain": [
       "0    4562\n",
       "1    2614\n",
       "2    5520\n",
       "3    5330\n",
       "4    3872\n",
       "Name: wind_speed(1), dtype: uint16"
      ]
     },
     "execution_count": 37,
     "metadata": {},
     "output_type": "execute_result"
    }
   ],
   "source": [
    "df['wind_speed(1)'].head()"
   ]
  }
 ],
 "metadata": {
  "kernelspec": {
   "display_name": "Python 3 (ipykernel)",
   "language": "python",
   "name": "python3"
  },
  "language_info": {
   "codemirror_mode": {
    "name": "ipython",
    "version": 3
   },
   "file_extension": ".py",
   "mimetype": "text/x-python",
   "name": "python",
   "nbconvert_exporter": "python",
   "pygments_lexer": "ipython3",
   "version": "3.9.19"
  }
 },
 "nbformat": 4,
 "nbformat_minor": 5
}
